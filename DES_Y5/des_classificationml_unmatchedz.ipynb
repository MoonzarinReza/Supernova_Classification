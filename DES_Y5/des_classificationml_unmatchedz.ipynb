{
 "cells": [
  {
   "cell_type": "markdown",
   "id": "3c502912",
   "metadata": {},
   "source": [
    "# Classification of Supernovae (SN Ia vs Non-SN Ia)"
   ]
  },
  {
   "cell_type": "markdown",
   "id": "ce94c785",
   "metadata": {},
   "source": [
    "###  Imports"
   ]
  },
  {
   "cell_type": "code",
   "execution_count": 149,
   "id": "55f8e854",
   "metadata": {},
   "outputs": [],
   "source": [
    "import os\n",
    "import numpy as np\n",
    "import pandas as pd\n",
    "from matplotlib import pyplot as plt\n",
    "from sklearn.model_selection import train_test_split\n",
    "from sklearn.metrics import (\n",
    "    confusion_matrix, ConfusionMatrixDisplay,\n",
    "    precision_score, recall_score, f1_score, accuracy_score\n",
    ")\n",
    "from catboost import CatBoostClassifier\n"
   ]
  },
  {
   "cell_type": "markdown",
   "id": "ebd6920a",
   "metadata": {},
   "source": [
    "### Load and Inspect Data"
   ]
  },
  {
   "cell_type": "code",
   "execution_count": 142,
   "id": "f03e5b19",
   "metadata": {},
   "outputs": [
    {
     "name": "stdout",
     "output_type": "stream",
     "text": [
      "Printing Transient Types: ['SN Ia' 'SN II' 'SLSN' 'SN Ibc' 'SN Ia-91bg' 'ILOT' 'CaRT' 'SN Iax' 'TDE'\n",
      " 'Point source μ-lensing' 'PISN' 'Binary system μ-lensing']\n"
     ]
    }
   ],
   "source": [
    "# Load dataset\n",
    "df_train = pd.read_csv('plasticc_train_data.csv')\n",
    "df_test = pd.read_csv('des_test_data.csv')\n",
    "\n",
    "# Show unique transient types\n",
    "print(\"Printing Transient Types:\", df_train['type'].unique())\n",
    "\n",
    "# Group all non-SN Ia as 'Non-SNIa'\n",
    "df_train.loc[df_train['type'] != 'SN Ia', 'type'] = 'Non-SNIa'\n",
    "\n",
    "# default value\n",
    "df_test.loc[df_test['type'] == 1, 'type'] = 'SN Ia'\n",
    "df_test.loc[df_test['type'] != 'SN Ia', 'type'] = 'Non-SNIa'\n"
   ]
  },
  {
   "cell_type": "markdown",
   "id": "b1b7776e",
   "metadata": {},
   "source": [
    "###  Define Features and Labels"
   ]
  },
  {
   "cell_type": "code",
   "execution_count": 143,
   "id": "7b4de408",
   "metadata": {},
   "outputs": [],
   "source": [
    "feature_cols = [\n",
    "    'g_pk_mag','r_pk_mag', 'i_pk_mag', 'z_pk_mag', \n",
    "    'g_alpha', 'g_beta', 'r_alpha', 'r_beta', 'i_alpha', 'i_beta',\n",
    "    'z_alpha', 'z_beta'\n",
    "]\n",
    "label_col = 'type'"
   ]
  },
  {
   "cell_type": "markdown",
   "id": "edbd0860",
   "metadata": {},
   "source": [
    "###  Define Training, Validation and Test Set\n"
   ]
  },
  {
   "cell_type": "code",
   "execution_count": 144,
   "id": "99be9d76",
   "metadata": {},
   "outputs": [
    {
     "name": "stdout",
     "output_type": "stream",
     "text": [
      "Training data size: 8033\n",
      "Test data size: 456\n",
      "No. of features: 12\n"
     ]
    }
   ],
   "source": [
    "x_train_val = df_train[feature_cols].to_numpy()\n",
    "y_train_val = df_train[label_col].to_numpy()\n",
    "\n",
    "x_test = df_test[feature_cols].to_numpy()\n",
    "y_test = df_test[label_col].to_numpy()\n",
    "\n",
    "\n",
    "x_train, x_val, y_train, y_val = train_test_split(\n",
    "    x_train_val, y_train_val, test_size=0.1, random_state=90\n",
    ")\n",
    "\n",
    "print('Training data size:', np.shape(x_train)[0])\n",
    "print('Test data size:', np.shape(x_test)[0])\n",
    "print('No. of features:', np.shape(x_train)[1])\n"
   ]
  },
  {
   "cell_type": "markdown",
   "id": "25208a8c",
   "metadata": {},
   "source": [
    "###  Train CatBoost "
   ]
  },
  {
   "cell_type": "code",
   "execution_count": 145,
   "id": "df40dc61",
   "metadata": {},
   "outputs": [],
   "source": [
    "\n",
    "\n",
    "as1_t, ps_t, re_t, f1_t = [], [], [], [] ##Training\n",
    "as1_v, ps_v, re_v, f1_v = [], [], [], [] ##Validation\n",
    "as1, ps, re, f1 = [], [], [], []        ##Test\n",
    "\n",
    "\n",
    "random_seed_list = [20]\n",
    "\n",
    "for seed in random_seed_list:\n",
    "    clf = CatBoostClassifier(verbose=False, random_seed=seed)\n",
    "    classifier = clf.fit(x_train, y_train, eval_set=(x_val, y_val))\n",
    "\n",
    "    # Predictions\n",
    "    y_pred_train = classifier.predict(x_train)\n",
    "    y_pred_val = classifier.predict(x_val)\n",
    "    y_pred_test = classifier.predict(x_test)\n",
    "    \n",
    "\n",
    "    # Train metrics\n",
    "    as1_t.append(accuracy_score(y_train, y_pred_train))\n",
    "    ps_t.append(precision_score(y_train, y_pred_train, pos_label='SN Ia'))\n",
    "    re_t.append(recall_score(y_train, y_pred_train, pos_label='SN Ia'))\n",
    "    f1_t.append(f1_score(y_train, y_pred_train, pos_label='SN Ia'))\n",
    "\n",
    "    # Validation metrics\n",
    "    as1_v.append(accuracy_score(y_val, y_pred_val))\n",
    "    ps_v.append(precision_score(y_val, y_pred_val, pos_label='SN Ia'))\n",
    "    re_v.append(recall_score(y_val, y_pred_val, pos_label='SN Ia'))\n",
    "    f1_v.append(f1_score(y_val, y_pred_val, pos_label='SN Ia'))\n",
    "\n",
    "    # Test metrics\n",
    "    as1.append(accuracy_score(y_test, y_pred_test))\n",
    "    ps.append(precision_score(y_test, y_pred_test, pos_label='SN Ia'))\n",
    "    re.append(recall_score(y_test, y_pred_test, pos_label='SN Ia'))\n",
    "    f1.append(f1_score(y_test, y_pred_test, pos_label='SN Ia'))\n"
   ]
  },
  {
   "cell_type": "markdown",
   "id": "b279cdbf",
   "metadata": {},
   "source": [
    "###  Print Metrics (mean ± std)"
   ]
  },
  {
   "cell_type": "code",
   "execution_count": 146,
   "id": "c98c7e99",
   "metadata": {},
   "outputs": [
    {
     "name": "stdout",
     "output_type": "stream",
     "text": [
      "Test: Accuracy: 89.7% ± 0.0%, Precision: 95.9% ± 0.0%, Recall: 89.9% ± 0.0%, F1-score: 92.8% ± 0.0%\n"
     ]
    }
   ],
   "source": [
    "\n",
    "def fmt(x):\n",
    "    return f\"{np.mean(x)*100:.1f}% ± {np.std(x)*100:.1f}%\"\n",
    "\n",
    "metrics = {\n",
    "    # 'Train': [as1_t, ps_t, re_t, f1_t],\n",
    "    # 'Validation': [as1_v, ps_v, re_v, f1_v],\n",
    "    'Test': [as1, ps, re, f1]\n",
    "}\n",
    "\n",
    "names = ['Accuracy', 'Precision', 'Recall', 'F1-score']\n",
    "\n",
    "for split, vals in metrics.items():\n",
    "    print(f\"{split}: \" + \", \".join(f\"{n}: {fmt(v)}\" for n, v in zip(names, vals)))\n"
   ]
  },
  {
   "cell_type": "markdown",
   "id": "e85050a0",
   "metadata": {},
   "source": [
    "###  Confusion Matrix (last run)"
   ]
  },
  {
   "cell_type": "code",
   "execution_count": 150,
   "id": "483ba625",
   "metadata": {},
   "outputs": [
    {
     "data": {
      "image/png": "[encoded data removed]",
      "text/plain": [
       "<Figure size 800x800 with 2 Axes>"
      ]
     },
     "metadata": {},
     "output_type": "display_data"
    }
   ],
   "source": [
    "\n",
    "cm = confusion_matrix(y_test, y_pred_test)\n",
    "disp = ConfusionMatrixDisplay(confusion_matrix=cm, display_labels=clf.classes_)\n",
    "\n",
    "fig, ax = plt.subplots(figsize=(8, 8))\n",
    "disp.plot(ax=ax, cmap='Blues', values_format='d')\n",
    "\n",
    "# Customize font sizes\n",
    "plt.setp(ax.get_xticklabels(), fontsize=20)\n",
    "plt.setp(ax.get_yticklabels(), fontsize=20)\n",
    "for label in ax.texts:\n",
    "    label.set_fontsize(20)\n",
    "\n",
    "plt.xlabel('Predicted Label', fontsize=18)\n",
    "plt.ylabel('True Label', fontsize=18)\n",
    "plt.title('Confusion matrix for one run', fontsize=18)\n",
    "os.makedirs(\"Figures\", exist_ok=True)\n",
    "plt.savefig('Figures/Confusion_Matrix.png')\n",
    "plt.show()\n"
   ]
  },
  {
   "cell_type": "code",
   "execution_count": null,
   "id": "70224b3f",
   "metadata": {},
   "outputs": [],
   "source": []
  }
 ],
 "metadata": {
  "kernelspec": {
   "display_name": "base",
   "language": "python",
   "name": "python3"
  },
  "language_info": {
   "codemirror_mode": {
    "name": "ipython",
    "version": 3
   },
   "file_extension": ".py",
   "mimetype": "text/x-python",
   "name": "python",
   "nbconvert_exporter": "python",
   "pygments_lexer": "ipython3",
   "version": "3.11.3"
  }
 },
 "nbformat": 4,
 "nbformat_minor": 5
}

{
 "cells": [
  {
   "cell_type": "markdown",
   "id": "3c502912",
   "metadata": {},
   "source": [
    "# Classification of Supernovae (SN Ia vs Non-SN Ia)"
   ]
  },
  {
   "cell_type": "markdown",
   "id": "ce94c785",
   "metadata": {},
   "source": [
    "###  Imports"
   ]
  },
  {
   "cell_type": "code",
   "execution_count": 79,
   "id": "55f8e854",
   "metadata": {},
   "outputs": [],
   "source": [
    "\n",
    "import numpy as np\n",
    "import pandas as pd\n",
    "import os\n",
    "from matplotlib import pyplot as plt\n",
    "from sklearn.model_selection import train_test_split\n",
    "from sklearn.metrics import (\n",
    "    confusion_matrix, ConfusionMatrixDisplay,\n",
    "    precision_score, recall_score, f1_score, accuracy_score\n",
    ")\n",
    "from catboost import CatBoostClassifier\n"
   ]
  },
  {
   "cell_type": "markdown",
   "id": "85366c7b",
   "metadata": {},
   "source": [
    "### Generate matched redshift training data"
   ]
  },
  {
   "cell_type": "code",
   "execution_count": 80,
   "id": "4fd90d97",
   "metadata": {},
   "outputs": [
    {
     "name": "stdout",
     "output_type": "stream",
     "text": [
      "Test set size: 456\n",
      "Matched training set size: 4376\n"
     ]
    }
   ],
   "source": [
    "\n",
    "def match_redshift_distribution(train_df, test_df, redshift_col='redshift', n_bins=20, total_train_samples=None, random_state=None):\n",
    "    \"\"\"\n",
    "    Select a subset from train_df such that the redshift distribution matches that of test_df.\n",
    "\n",
    "    Parameters:\n",
    "        train_df (pd.DataFrame): Original training set with redshift column.\n",
    "        test_df (pd.DataFrame): Test set with redshift column.\n",
    "        redshift_col (str): Name of the redshift column.\n",
    "        n_bins (int): Number of bins to use for distribution matching.\n",
    "        total_train_samples (int or None): Total number of samples to draw from train_df.\n",
    "        random_state (int or None): Seed for reproducibility.\n",
    "\n",
    "    Returns:\n",
    "        pd.DataFrame: Subset of train_df with matched redshift distribution.\n",
    "    \"\"\"\n",
    "    bins = np.linspace(test_df[redshift_col].min(), test_df[redshift_col].max(), n_bins + 1)\n",
    "    test_hist, _ = np.histogram(test_df[redshift_col], bins=bins)\n",
    "    test_proportions = test_hist / test_hist.sum()\n",
    "\n",
    "    if total_train_samples is None:\n",
    "        total_train_samples = len(train_df)\n",
    "\n",
    "    train_subset = pd.DataFrame()\n",
    "    rng = np.random.default_rng(random_state)\n",
    "\n",
    "    for i in range(n_bins):\n",
    "        bin_mask = (train_df[redshift_col] >= bins[i]) & (train_df[redshift_col] < bins[i+1])\n",
    "        bin_samples = train_df[bin_mask]\n",
    "\n",
    "        n_to_sample = int(test_proportions[i] * total_train_samples)\n",
    "        if len(bin_samples) > 0:\n",
    "            sampled = bin_samples.sample(n=min(n_to_sample, len(bin_samples)), replace=False, random_state=random_state)\n",
    "            train_subset = pd.concat([train_subset, sampled], ignore_index=True)\n",
    "\n",
    "    return train_subset.sample(frac=1, random_state=random_state).reset_index(drop=True)\n",
    "\n",
    "train_df=pd.read_csv('plasticc_train_data.csv')\n",
    "test_df=pd.read_csv('des_test_data.csv') \n",
    "matched_train_df = match_redshift_distribution(\n",
    "    train_df, test_df,\n",
    "    redshift_col='photo_z',\n",
    "    n_bins=20,\n",
    "     \n",
    "    random_state=42\n",
    ")\n",
    "\n",
    "\n",
    "\n",
    "print(f\"Test set size: {len(test_df)}\")\n",
    "print(f\"Matched training set size: {len(matched_train_df)}\")\n"
   ]
  },
  {
   "cell_type": "markdown",
   "id": "ebd6920a",
   "metadata": {},
   "source": [
    "###  Load and Inspect Data"
   ]
  },
  {
   "cell_type": "code",
   "execution_count": 81,
   "id": "f03e5b19",
   "metadata": {},
   "outputs": [
    {
     "name": "stdout",
     "output_type": "stream",
     "text": [
      "Printing Transient Types: ['SN II' 'SN Ia' 'SN Ibc' 'SN Iax' 'SN Ia-91bg' 'TDE' 'CaRT' 'SLSN' 'ILOT'\n",
      " 'Point source μ-lensing' 'PISN' 'Binary system μ-lensing']\n"
     ]
    }
   ],
   "source": [
    "\n",
    "# Load dataset\n",
    "df_train = matched_train_df\n",
    "df_test = pd.read_csv('des_test_data.csv')\n",
    "\n",
    "# Show unique transient types\n",
    "print(\"Printing Transient Types:\", df_train['type'].unique())\n",
    "\n",
    "# Group all non-SN Ia as 'Non-SNIa'\n",
    "df_train.loc[df_train['type'] != 'SN Ia', 'type'] = 'Non-SNIa'\n",
    "df_test.loc[df_test['type'] == 1, 'type'] = 'SN Ia'\n",
    "df_test.loc[df_test['type'] != 'SN Ia', 'type'] = 'Non-SNIa'"
   ]
  },
  {
   "cell_type": "markdown",
   "id": "b1b7776e",
   "metadata": {},
   "source": [
    "###  Define Features and Labels"
   ]
  },
  {
   "cell_type": "code",
   "execution_count": 82,
   "id": "7b4de408",
   "metadata": {},
   "outputs": [],
   "source": [
    "\n",
    "feature_cols = [\n",
    "    'g_pk_mag','r_pk_mag', 'i_pk_mag', 'z_pk_mag', \n",
    "    'g_alpha', 'g_beta', 'r_alpha', 'r_beta', 'i_alpha', 'i_beta',\n",
    "    'z_alpha', 'z_beta'\n",
    "]\n",
    "label_col = 'type'\n",
    "\n"
   ]
  },
  {
   "cell_type": "markdown",
   "id": "edbd0860",
   "metadata": {},
   "source": [
    "###  Define Training, Validation and Test Set\n"
   ]
  },
  {
   "cell_type": "code",
   "execution_count": 83,
   "id": "99be9d76",
   "metadata": {},
   "outputs": [
    {
     "name": "stdout",
     "output_type": "stream",
     "text": [
      "Training data size: 3938\n",
      "Test data size: 456\n",
      "No. of features: 12\n"
     ]
    }
   ],
   "source": [
    "x_train_val = df_train[feature_cols].to_numpy()\n",
    "y_train_val = df_train[label_col].to_numpy()\n",
    "\n",
    "x_test = df_test[feature_cols].to_numpy()\n",
    "y_test = df_test[label_col].to_numpy()\n",
    "\n",
    "\n",
    "x_train, x_val, y_train, y_val = train_test_split(\n",
    "    x_train_val, y_train_val, test_size=0.1, random_state=90\n",
    ")\n",
    "\n",
    "print('Training data size:', np.shape(x_train)[0])\n",
    "print('Test data size:', np.shape(x_test)[0])\n",
    "print('No. of features:', np.shape(x_train)[1])\n"
   ]
  },
  {
   "cell_type": "markdown",
   "id": "25208a8c",
   "metadata": {},
   "source": [
    "###  Train CatBoost with Multiple Seeds"
   ]
  },
  {
   "cell_type": "code",
   "execution_count": 84,
   "id": "df40dc61",
   "metadata": {},
   "outputs": [],
   "source": [
    "\n",
    "as1_t, ps_t, re_t, f1_t = [], [], [], [] ##Training\n",
    "as1_v, ps_v, re_v, f1_v = [], [], [], [] ##Validation\n",
    "as1, ps, re, f1 = [], [], [], []        ##Test\n",
    "\n",
    "random_seed_list = [20]\n",
    "\n",
    "for seed in random_seed_list:\n",
    "    clf = CatBoostClassifier(verbose=False, random_seed=seed)\n",
    "    classifier = clf.fit(x_train, y_train, eval_set=(x_val, y_val))\n",
    "\n",
    "    # Predictions\n",
    "    y_pred_train = classifier.predict(x_train)\n",
    "    y_pred_val = classifier.predict(x_val)\n",
    "    y_pred_test = classifier.predict(x_test)\n",
    "\n",
    "    # Train metrics\n",
    "    as1_t.append(accuracy_score(y_train, y_pred_train))\n",
    "    ps_t.append(precision_score(y_train, y_pred_train, pos_label='SN Ia'))\n",
    "    re_t.append(recall_score(y_train, y_pred_train, pos_label='SN Ia'))\n",
    "    f1_t.append(f1_score(y_train, y_pred_train, pos_label='SN Ia'))\n",
    "\n",
    "    # Validation metrics\n",
    "    as1_v.append(accuracy_score(y_val, y_pred_val))\n",
    "    ps_v.append(precision_score(y_val, y_pred_val, pos_label='SN Ia'))\n",
    "    re_v.append(recall_score(y_val, y_pred_val, pos_label='SN Ia'))\n",
    "    f1_v.append(f1_score(y_val, y_pred_val, pos_label='SN Ia'))\n",
    "\n",
    "    # Test metrics\n",
    "    as1.append(accuracy_score(y_test, y_pred_test))\n",
    "    ps.append(precision_score(y_test, y_pred_test, pos_label='SN Ia'))\n",
    "    re.append(recall_score(y_test, y_pred_test, pos_label='SN Ia'))\n",
    "    f1.append(f1_score(y_test, y_pred_test, pos_label='SN Ia'))\n"
   ]
  },
  {
   "cell_type": "markdown",
   "id": "b279cdbf",
   "metadata": {},
   "source": [
    "###  Print Metrics "
   ]
  },
  {
   "cell_type": "code",
   "execution_count": 85,
   "id": "c98c7e99",
   "metadata": {},
   "outputs": [
    {
     "name": "stdout",
     "output_type": "stream",
     "text": [
      "Train: Accuracy: 99.9% ± 0.0%, Precision: 100.0% ± 0.0%, Recall: 99.9% ± 0.0%, F1-score: 99.9% ± 0.0%\n",
      "Validation: Accuracy: 97.0% ± 0.0%, Precision: 94.2% ± 0.0%, Recall: 97.3% ± 0.0%, F1-score: 95.7% ± 0.0%\n",
      "Test: Accuracy: 90.1% ± 0.0%, Precision: 96.5% ± 0.0%, Recall: 89.9% ± 0.0%, F1-score: 93.1% ± 0.0%\n"
     ]
    }
   ],
   "source": [
    "\n",
    "def fmt(x):\n",
    "    return f\"{np.mean(x)*100:.1f}% ± {np.std(x)*100:.1f}%\"\n",
    "\n",
    "metrics = {\n",
    "    'Train': [as1_t, ps_t, re_t, f1_t],\n",
    "    'Validation': [as1_v, ps_v, re_v, f1_v],\n",
    "    'Test': [as1, ps, re, f1]\n",
    "}\n",
    "\n",
    "names = ['Accuracy', 'Precision', 'Recall', 'F1-score']\n",
    "\n",
    "for split, vals in metrics.items():\n",
    "    print(f\"{split}: \" + \", \".join(f\"{n}: {fmt(v)}\" for n, v in zip(names, vals)))\n"
   ]
  },
  {
   "cell_type": "markdown",
   "id": "e85050a0",
   "metadata": {},
   "source": [
    "###  Confusion Matrix (last run)"
   ]
  },
  {
   "cell_type": "code",
   "execution_count": 92,
   "id": "483ba625",
   "metadata": {},
   "outputs": [
    {
     "data": {
      "image/png": "[encoded data removed]",
      "text/plain": [
       "<Figure size 1200x1200 with 2 Axes>"
      ]
     },
     "metadata": {},
     "output_type": "display_data"
    }
   ],
   "source": [
    "\n",
    "cm = confusion_matrix(y_test, y_pred_test)\n",
    "disp = ConfusionMatrixDisplay(confusion_matrix=cm, display_labels=clf.classes_)\n",
    "\n",
    "fig, ax = plt.subplots(figsize=(12, 12))\n",
    "disp.plot(ax=ax, cmap='Blues', values_format='d')\n",
    "\n",
    "# Customize font sizes\n",
    "plt.setp(ax.get_xticklabels(), fontsize=20)\n",
    "plt.setp(ax.get_yticklabels(), fontsize=20)\n",
    "for label in ax.texts:\n",
    "    label.set_fontsize(24)\n",
    "\n",
    "plt.xlabel('Predicted Label', fontsize=20)\n",
    "plt.ylabel('True Label', fontsize=20)\n",
    "plt.title('Confusion matrix for one run', fontsize=24)\n",
    "os.makedirs(\"Figures\", exist_ok=True)\n",
    "plt.savefig('Figures/Confusion_Matrix_Catboost_Matchedz.png')\n",
    "plt.show()\n"
   ]
  },
  {
   "cell_type": "code",
   "execution_count": null,
   "id": "a650fdd6",
   "metadata": {},
   "outputs": [],
   "source": []
  }
 ],
 "metadata": {
  "kernelspec": {
   "display_name": "base",
   "language": "python",
   "name": "python3"
  },
  "language_info": {
   "codemirror_mode": {
    "name": "ipython",
    "version": 3
   },
   "file_extension": ".py",
   "mimetype": "text/x-python",
   "name": "python",
   "nbconvert_exporter": "python",
   "pygments_lexer": "ipython3",
   "version": "3.11.3"
  }
 },
 "nbformat": 4,
 "nbformat_minor": 5
}
